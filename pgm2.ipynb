{
  "nbformat": 4,
  "nbformat_minor": 0,
  "metadata": {
    "colab": {
      "provenance": [],
      "authorship_tag": "ABX9TyMR57bTeGmrERsJ545dZrNp",
      "include_colab_link": true
    },
    "kernelspec": {
      "name": "python3",
      "display_name": "Python 3"
    },
    "language_info": {
      "name": "python"
    }
  },
  "cells": [
    {
      "cell_type": "markdown",
      "metadata": {
        "id": "view-in-github",
        "colab_type": "text"
      },
      "source": [
        "<a href=\"https://colab.research.google.com/github/ThasniRashid/Datascience/blob/main/pgm2.ipynb\" target=\"_parent\"><img src=\"https://colab.research.google.com/assets/colab-badge.svg\" alt=\"Open In Colab\"/></a>"
      ]
    },
    {
      "cell_type": "code",
      "execution_count": 8,
      "metadata": {
        "colab": {
          "base_uri": "https://localhost:8080/"
        },
        "id": "YlJcQOGKpHoE",
        "outputId": "c9446827-6ee9-4eb8-9c9f-aaa794c64c07"
      },
      "outputs": [
        {
          "output_type": "stream",
          "name": "stdout",
          "text": [
            "[3 3 0 1 1 1 0 3 3 1 3 2 2 1]\n",
            "Temp: [1 1 1 2 0 0 0 2 0 2 2 2 1 2]\n"
          ]
        },
        {
          "output_type": "execute_result",
          "data": {
            "text/plain": [
              "[(3, 1),\n",
              " (3, 1),\n",
              " (0, 1),\n",
              " (1, 2),\n",
              " (1, 0),\n",
              " (1, 0),\n",
              " (0, 0),\n",
              " (3, 2),\n",
              " (3, 0),\n",
              " (1, 2),\n",
              " (3, 2),\n",
              " (2, 2),\n",
              " (2, 1),\n",
              " (1, 2)]"
            ]
          },
          "metadata": {},
          "execution_count": 8
        }
      ],
      "source": [
        "weather=['sunny','sunny','Overcast','Rainy','Rainy','Rainy','Overcast','sunny','sunny','Rainy','sunny','overcast','overcast','Rainy']\n",
        "temp=['hot','hot','hot','mild','cool','cool','cool','mild','cool','mild','mild','mild','hot','mild']\n",
        "play=['no','no','yes','yes','yes','no','yes','no','yes','yes','yes','yes','yes','no']\n",
        "from sklearn import preprocessing\n",
        "le=preprocessing.LabelEncoder()\n",
        "weather_encoder=le.fit_transform(weather)\n",
        "print(weather_encoder)\n",
        "temp_encoded=le.fit_transform(temp)\n",
        "label=le.fit_transform(play)\n",
        "print(\"Temp:\",temp_encoded)\n",
        "features=zip(weather_encoder,temp_encoded)\n",
        "features=list(features)\n",
        "features\n"
      ]
    },
    {
      "cell_type": "code",
      "source": [
        "from sklearn.naive_bayes import GaussianNB\n",
        "model=GaussianNB()\n",
        "model.fit(features,label)\n",
        "predicted=model.predict([[0,2]])\n",
        "print(\"Predicted value:\",predicted)"
      ],
      "metadata": {
        "colab": {
          "base_uri": "https://localhost:8080/"
        },
        "id": "Shv8jrcrsEC-",
        "outputId": "a791462b-bd1c-46c5-af7b-fef378382bfb"
      },
      "execution_count": 9,
      "outputs": [
        {
          "output_type": "stream",
          "name": "stdout",
          "text": [
            "Predicted value: [1]\n"
          ]
        }
      ]
    },
    {
      "cell_type": "code",
      "source": [],
      "metadata": {
        "id": "attVOFeJtCUb"
      },
      "execution_count": null,
      "outputs": []
    }
  ]
}