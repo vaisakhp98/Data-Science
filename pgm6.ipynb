{
  "nbformat": 4,
  "nbformat_minor": 0,
  "metadata": {
    "colab": {
      "provenance": [],
      "authorship_tag": "ABX9TyORdrKWZGI6TEUbMSwpE4NJ",
      "include_colab_link": true
    },
    "kernelspec": {
      "name": "python3",
      "display_name": "Python 3"
    },
    "language_info": {
      "name": "python"
    }
  },
  "cells": [
    {
      "cell_type": "markdown",
      "metadata": {
        "id": "view-in-github",
        "colab_type": "text"
      },
      "source": [
        "<a href=\"https://colab.research.google.com/github/ThasniRashid/Datascience/blob/main/pgm6.ipynb\" target=\"_parent\"><img src=\"https://colab.research.google.com/assets/colab-badge.svg\" alt=\"Open In Colab\"/></a>"
      ]
    },
    {
      "cell_type": "code",
      "execution_count": 4,
      "metadata": {
        "colab": {
          "base_uri": "https://localhost:8080/"
        },
        "id": "0b0MU547vAyr",
        "outputId": "900db6c3-784e-496d-a3f8-ad5a05971496"
      },
      "outputs": [
        {
          "output_type": "stream",
          "name": "stdout",
          "text": [
            "Features: ['sepal length (cm)', 'sepal width (cm)', 'petal length (cm)', 'petal width (cm)']\n",
            "Labels: ['setosa' 'versicolor' 'virginica']\n",
            "[2]\n",
            "[1 0 2 1 1 0 1 2 1 1 2 0 0 0 0 1 2 1 1 2 0 2 0 2 2 2 2 2 0 0]\n",
            "1.0\n"
          ]
        }
      ],
      "source": [
        "from sklearn.model_selection import train_test_split\n",
        "from sklearn.datasets import load_iris\n",
        "irisData=load_iris()\n",
        "print(\"Features:\",irisData.feature_names)\n",
        "print(\"Labels:\",irisData.target_names)\n",
        "x=irisData.data\n",
        "y=irisData.target\n",
        "x_train,x_test,y_train,y_test=train_test_split(x,y,test_size=0.2,random_state=42)\n",
        "from sklearn.naive_bayes import GaussianNB\n",
        "gnb=GaussianNB()\n",
        "gnb.fit(x_train,y_train)\n",
        "print(gnb.predict([[7.7,2.6,6.9,2.3]]))\n",
        "y_pred1=gnb.predict(x_test)\n",
        "print(y_pred1)\n",
        "from sklearn.metrics import accuracy_score\n",
        "ac1=accuracy_score(y_test,y_pred1)\n",
        "print(ac1)\n",
        "\n"
      ]
    }
  ]
}